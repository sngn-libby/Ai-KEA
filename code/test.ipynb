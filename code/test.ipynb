{
 "cells": [
  {
   "cell_type": "code",
   "execution_count": 79,
   "metadata": {},
   "outputs": [
    {
     "name": "stdout",
     "output_type": "stream",
     "text": [
      "Train for 84 steps, validate for 21 steps    Epoch 1/30    84/84 [==============================] - 250s 3s/step - loss: 2.4209 - accuracy: 0.4637 - val_loss: 22.1747 - val_accuracy: 0.2258    Epoch 2/30    84/84 [==============================] - 239s 3s/step - loss: 0.7731 - accuracy: 0.7934 - val_loss: 3.5402 - val_accuracy: 0.6335    Epoch 3/30    84/84 [==============================] - 239s 3s/step - loss: 0.4768 - accuracy: 0.8702 - val_loss: 1.0659 - val_accuracy: 0.7212    Epoch 4/30    84/84 [==============================] - 240s 3s/step - loss: 0.2272 - accuracy: 0.9333 - val_loss: 0.7431 - val_accuracy: 0.7930    Epoch 5/30    84/84 [==============================] - 239s 3s/step - loss: 0.1450 - accuracy: 0.9566 - val_loss: 0.7672 - val_accuracy: 0.7939    Epoch 6/30    84/84 [==============================] - 239s 3s/step - loss: 0.1011 - accuracy: 0.9688 - val_loss: 0.7411 - val_accuracy: 0.8179    Epoch 7/30    84/84 [==============================] - 238s 3s/step - loss: 0.0731 - accuracy: 0.9771 - val_loss: 0.8787 - val_accuracy: 0.8147    Epoch 8/30    84/84 [==============================] - 239s 3s/step - loss: 0.0603 - accuracy: 0.9809 - val_loss: 0.9062 - val_accuracy: 0.8166    Epoch 9/30    84/84 [==============================] - 242s 3s/step - loss: 0.0362 - accuracy: 0.9884 - val_loss: 1.0124 - val_accuracy: 0.8204    Epoch 10/30    84/84 [==============================] - 243s 3s/step - loss: 0.0581 - accuracy: 0.9835 - val_loss: 0.8587 - val_accuracy: 0.8230\n"
     ]
    }
   ],
   "source": [
    "import plotGraph as pd \n",
    "\n",
    "data = \"\"\"Train for 84 steps, validate for 21 steps\\\n",
    "    Epoch 1/30\\\n",
    "    84/84 [==============================] - 250s 3s/step - loss: 2.4209 - accuracy: 0.4637 - val_loss: 22.1747 - val_accuracy: 0.2258\\\n",
    "    Epoch 2/30\\\n",
    "    84/84 [==============================] - 239s 3s/step - loss: 0.7731 - accuracy: 0.7934 - val_loss: 3.5402 - val_accuracy: 0.6335\\\n",
    "    Epoch 3/30\\\n",
    "    84/84 [==============================] - 239s 3s/step - loss: 0.4768 - accuracy: 0.8702 - val_loss: 1.0659 - val_accuracy: 0.7212\\\n",
    "    Epoch 4/30\\\n",
    "    84/84 [==============================] - 240s 3s/step - loss: 0.2272 - accuracy: 0.9333 - val_loss: 0.7431 - val_accuracy: 0.7930\\\n",
    "    Epoch 5/30\\\n",
    "    84/84 [==============================] - 239s 3s/step - loss: 0.1450 - accuracy: 0.9566 - val_loss: 0.7672 - val_accuracy: 0.7939\\\n",
    "    Epoch 6/30\\\n",
    "    84/84 [==============================] - 239s 3s/step - loss: 0.1011 - accuracy: 0.9688 - val_loss: 0.7411 - val_accuracy: 0.8179\\\n",
    "    Epoch 7/30\\\n",
    "    84/84 [==============================] - 238s 3s/step - loss: 0.0731 - accuracy: 0.9771 - val_loss: 0.8787 - val_accuracy: 0.8147\\\n",
    "    Epoch 8/30\\\n",
    "    84/84 [==============================] - 239s 3s/step - loss: 0.0603 - accuracy: 0.9809 - val_loss: 0.9062 - val_accuracy: 0.8166\\\n",
    "    Epoch 9/30\\\n",
    "    84/84 [==============================] - 242s 3s/step - loss: 0.0362 - accuracy: 0.9884 - val_loss: 1.0124 - val_accuracy: 0.8204\\\n",
    "    Epoch 10/30\\\n",
    "    84/84 [==============================] - 243s 3s/step - loss: 0.0581 - accuracy: 0.9835 - val_loss: 0.8587 - val_accuracy: 0.8230\"\"\"\n",
    "\n",
    "print(data)\n"
   ]
  },
  {
   "cell_type": "code",
   "execution_count": 180,
   "metadata": {},
   "outputs": [],
   "source": [
    "\n",
    "def plotDiffGraph(strData='', epoch=100):\n",
    "\n",
    "\t# parsing point : loss: [6글자], accuracy: [6글자], val_loss: [6글자], val_accuracy: [6글자]\n",
    "\tepoch_data = strData.split(sep=\"Epoch\")\n",
    "\tnums = [re.findall(r' [0-9]+[.][0-9]+', i) for i in epoch_data[1:]] # loss, accuracy, val_loss, val_accuracy\n",
    "\t\n",
    "\t# loss, accuracy, val_loss, val_accuracy\n",
    "\tloss = np.array([ float(i[0].strip()) for i in nums ])\n",
    "\taccuracy = np.array([ float(i[1].strip()) for i in nums ])\n",
    "\tval_loss = np.array([ float(i[2].strip()) for i in nums ])\n",
    "\tval_accuracy = np.array([ float(i[3].strip()) for i in nums ])\n",
    "\n",
    "\t# loss 기준점 : 0.6 (사람의 오류율)\n",
    "\t# accuracy 기준점 : 0.8\n",
    "\tt = np.arange(0, epoch)\n",
    "\tfig, (ax1, ax2) = plt.subplots(2, 1, sharex=True, figsize=(15,6))\n",
    "\n",
    "\tax1.fill_between(t, 0.6, val_loss)\n",
    "\tax1.set_xlim(0, epoch-1)\n",
    "\tax1.set_ylim(0, max(val_accuracy))\n",
    "\tax1.set_ylabel('Between 1 to 0')\n",
    "\tax1.set_xlabel('Epoch')\n",
    "\n",
    "\tax2.fill_between(t, 0.8, val_loss)\n",
    "\tax1.set_xlim(0, epoch-1)\n",
    "\tax1.set_ylim(0, max(val_accuracy))\n",
    "\tax2.set_ylabel('Between 1 to 0')\n",
    "\tax2.set_xlabel('Epoch')\n",
    "    \n",
    "\tfig.tight_layout()\n",
    "\tplt.show()"
   ]
  },
  {
   "cell_type": "code",
   "execution_count": 181,
   "metadata": {},
   "outputs": [
    {
     "data": {
      "image/png": "[encoded data removed]",
      "text/plain": [
       "<Figure size 1080x432 with 2 Axes>"
      ]
     },
     "metadata": {
      "needs_background": "light"
     },
     "output_type": "display_data"
    }
   ],
   "source": [
    "plotDiffGraph(data, 10)"
   ]
  },
  {
   "cell_type": "code",
   "execution_count": 154,
   "metadata": {},
   "outputs": [
    {
     "name": "stdout",
     "output_type": "stream",
     "text": [
      " 1/30    84/84 [==============================] - 250s 3s/step - loss: 2.4209 - accuracy: 0.4637 - val_loss: 22.1747 - val_accuracy: 0.2258    \n",
      "['loss: 2', 'loss: 22']\n",
      "[[' 2.4209 ', ' 0.4637 ', ' 22.1747 ', ' 0.2258 '], [' 0.7731 ', ' 0.7934 ', ' 3.5402 ', ' 0.6335 '], [' 0.4768 ', ' 0.8702 ', ' 1.0659 ', ' 0.7212 '], [' 0.2272 ', ' 0.9333 ', ' 0.7431 ', ' 0.7930 '], [' 0.1450 ', ' 0.9566 ', ' 0.7672 ', ' 0.7939 '], [' 0.1011 ', ' 0.9688 ', ' 0.7411 ', ' 0.8179 '], [' 0.0731 ', ' 0.9771 ', ' 0.8787 ', ' 0.8147 '], [' 0.0603 ', ' 0.9809 ', ' 0.9062 ', ' 0.8166 '], [' 0.0362 ', ' 0.9884 ', ' 1.0124 ', ' 0.8204 '], [' 0.0581 ', ' 0.9835 ', ' 0.8587 ']]\n"
     ]
    }
   ],
   "source": [
    "import re\n",
    "import numpy as np\n",
    "import matplotlib.pyplot as plt\n",
    "\n",
    "epoch_data = data.split(sep=\"Epoch\")\n",
    "print(epoch_data[1])\n",
    "print(re.findall(r'loss: [0-9]+', epoch_data[1]))\n",
    "nums = [re.findall(r' [0-9]+[.][0-9]+ ', i, re.MULTILINE) for i in epoch_data[1:]] # loss, accuracy, val_loss, val_accuracy\n",
    "print(nums)"
   ]
  },
  {
   "cell_type": "code",
   "execution_count": 186,
   "metadata": {},
   "outputs": [
    {
     "name": "stdout",
     "output_type": "stream",
     "text": [
      "/bin/sh: pip: command not found\r\n"
     ]
    },
    {
     "ename": "ModuleNotFoundError",
     "evalue": "No module named 'PIL'",
     "output_type": "error",
     "traceback": [
      "\u001b[0;31m---------------------------------------------------------------------------\u001b[0m",
      "\u001b[0;31mModuleNotFoundError\u001b[0m                       Traceback (most recent call last)",
      "\u001b[0;32m<ipython-input-186-74265580c111>\u001b[0m in \u001b[0;36m<module>\u001b[0;34m\u001b[0m\n\u001b[1;32m      2\u001b[0m \u001b[0;32mimport\u001b[0m \u001b[0mglob\u001b[0m\u001b[0;34m\u001b[0m\u001b[0;34m\u001b[0m\u001b[0m\n\u001b[1;32m      3\u001b[0m \u001b[0mget_ipython\u001b[0m\u001b[0;34m(\u001b[0m\u001b[0;34m)\u001b[0m\u001b[0;34m.\u001b[0m\u001b[0msystem\u001b[0m\u001b[0;34m(\u001b[0m\u001b[0;34m'pip install PIL'\u001b[0m\u001b[0;34m)\u001b[0m\u001b[0;34m\u001b[0m\u001b[0;34m\u001b[0m\u001b[0m\n\u001b[0;32m----> 4\u001b[0;31m \u001b[0;32mfrom\u001b[0m \u001b[0mPIL\u001b[0m \u001b[0;32mimport\u001b[0m \u001b[0mImage\u001b[0m\u001b[0;34m\u001b[0m\u001b[0;34m\u001b[0m\u001b[0m\n\u001b[0m\u001b[1;32m      5\u001b[0m \u001b[0;34m\u001b[0m\u001b[0m\n\u001b[1;32m      6\u001b[0m \u001b[0;31m# file_dir = '/content/furniture/'\u001b[0m\u001b[0;34m\u001b[0m\u001b[0;34m\u001b[0m\u001b[0;34m\u001b[0m\u001b[0m\n",
      "\u001b[0;31mModuleNotFoundError\u001b[0m: No module named 'PIL'"
     ]
    }
   ],
   "source": [
    "import os\n",
    "import glob\n",
    "from PIL import Image\n",
    "\n",
    "# file_dir = '/content/furniture/'\n",
    "file_dir = '/Users/sngn/Ai-KEA/img'\n",
    "\n",
    "def imageMerge(file_path_1, file_path_2, debug=True): # format : '/content/furniture/chair'\n",
    "\n",
    "\tcls_1 = file_path_1.split(sep='/')[-1]\n",
    "\tcls_2 = file_path_2.split(sep='/')[-1]\n",
    "\t\n",
    "\tsave_path = file_dir+cls_1+'_'+cls_2\n",
    "\tos.makedirs(save_path, exist_ok=True)\n",
    "\n",
    "\tfiles1 = glob.glob(file_path_1 + '*.jpg')\n",
    "\tfiles2 = glob.glob(file_path_2 + '*.jpg')\n",
    "\tif debug is True :\n",
    "\t\tprint(len(files1), len(files2))\n",
    "\n",
    "\tfor i in files1:\n",
    "\t\timg1 = Image.open(i)\n",
    "\t\tfor j in files2:\n",
    "\t\t\timg2 = Image.open(j)\n",
    "\t\t\tw = min([img1.size[0], img2.size[0]])\n",
    "\t\t\th = min([img1.size[1], img2,size[1]])\n",
    "\n",
    "\t\t\tif debug is True : print(w, h)\n",
    "\t\t\tresized_1 = img1.resize((w, h))\n",
    "\t\t\tresized_2 = img2.resize((w, h))\n",
    "\n",
    "\t\t\tnew_img = Image.new('RGB', (w*2, y), (256, 256, 256))\n",
    "\t\t\tnew_img.paste(resized_1, (0, 0, w, h))\n",
    "\t\t\tnew_img.paste(resized_2, (1, 0, w*2, h))\n",
    "\n",
    "\t\t\tnew_img.save(save_path, 'jpg')\n",
    "\t\t\tif debug is True : new_img.show()"
   ]
  },
  {
   "cell_type": "code",
   "execution_count": null,
   "metadata": {},
   "outputs": [],
   "source": []
  }
 ],
 "metadata": {
  "kernelspec": {
   "display_name": "Python 3",
   "language": "python",
   "name": "python3"
  },
  "language_info": {
   "codemirror_mode": {
    "name": "ipython",
    "version": 3
   },
   "file_extension": ".py",
   "mimetype": "text/x-python",
   "name": "python",
   "nbconvert_exporter": "python",
   "pygments_lexer": "ipython3",
   "version": "3.7.5"
  }
 },
 "nbformat": 4,
 "nbformat_minor": 2
}
